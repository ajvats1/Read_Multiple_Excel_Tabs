{
 "cells": [
  {
   "cell_type": "code",
   "execution_count": 3,
   "id": "abe55bb0",
   "metadata": {},
   "outputs": [
    {
     "name": "stdout",
     "output_type": "stream",
     "text": [
      "Error processing sheet IL: Worksheet named 'IL' not found\n",
      "Collated DataFrame has 1380 rows and 5 columns.\n",
      "Data saved successfully to CSV.\n"
     ]
    }
   ],
   "source": [
    "#import the panda library\n",
    "import pandas as pd\n",
    "\n",
    "# display more characters in each cell when printing DataFrames\n",
    "pd.set_option('display.max_colwidth', None)\n",
    "\n",
    "# Initialize the DataFrame to collect the data\n",
    "collated = pd.DataFrame(index=range(0), columns=['Platform', 'Month','Country','Category','Reach'])\n",
    "\n",
    "# List of countries (sheet names)\n",
    "countries = ['BE', 'CH', 'DE', 'DK', 'ES', 'FI', 'FR', 'IL', 'IT', 'NL', 'NO', 'SE', 'UK']\n",
    "\n",
    "# Loop over each country (sheet name)\n",
    "for country in countries:\n",
    "    try:\n",
    "        # Read data from the sheet for the specific country\n",
    "        df = pd.read_excel(r'filenamehere.xlsm',\n",
    "            sheet_name=country,\n",
    "            usecols=\"B:D\",\n",
    "            skiprows=283,\n",
    "            nrows=117,\n",
    "            header=0\n",
    "        )\n",
    "        # Rename columns\n",
    "        df.columns = [\"Platform\", \"Month\", \"Reach\"]\n",
    "        \n",
    "        # Forward fill missing values\n",
    "        df = df.ffill(axis=0)\n",
    "\n",
    "         # Filter out rows where \"headername\" appears in the 'Platform' column\n",
    "        df = df[df['Platform'] != \"headername\"]\n",
    "\n",
    "        # Add additional columns for 'Country' and 'Category'\n",
    "        df['Country'] = country\n",
    "        df['Category'] = 'Category'\n",
    "        \n",
    "        # Concatenate the data to the collated DataFrame\n",
    "        collated = pd.concat([collated, df], ignore_index=True)\n",
    "        \n",
    "    except Exception as e:\n",
    "        # Print error message for debugging\n",
    "        print(f\"Error processing sheet {country}: {e}\")\n",
    "\n",
    "        # Debug: Check if collated is empty or has data\n",
    "if collated.empty:\n",
    "    print(\"The 'collated' DataFrame is empty. No data was collected.\")\n",
    "else:\n",
    "    print(f\"Collated DataFrame has {collated.shape[0]} rows and {collated.shape[1]} columns.\")\n",
    "\n",
    "# Save the collated DataFrame to a CSV file if it contains data\n",
    "if not collated.empty:\n",
    "    try:\n",
    "        collated.to_excel(r'outputfilenamedestinationhere', index=False, header=True)\n",
    "        print(\"Data saved successfully to CSV.\")\n",
    "    except Exception as e:\n",
    "        print(f\"Error saving CSV: {e}\")\n",
    "else:\n",
    "    print(\"No data to save. Skipping CSV export.\")"
   ]
  }
 ],
 "metadata": {
  "kernelspec": {
   "display_name": "Python 3 (ipykernel)",
   "language": "python",
   "name": "python3"
  },
  "language_info": {
   "codemirror_mode": {
    "name": "ipython",
    "version": 3
   },
   "file_extension": ".py",
   "mimetype": "text/x-python",
   "name": "python",
   "nbconvert_exporter": "python",
   "pygments_lexer": "ipython3",
   "version": "3.11.7"
  }
 },
 "nbformat": 4,
 "nbformat_minor": 5
}
